{
 "cells": [
  {
   "cell_type": "code",
   "execution_count": 7,
   "metadata": {},
   "outputs": [],
   "source": [
    "from keras.models import model_from_json\n",
    "from keras.optimizers import SGD\n",
    "from time import sleep\n",
    "from scipy.ndimage import zoom\n",
    "import numpy as np\n",
    "import cv2\n",
    "import datetime\n",
    "import time\n"
   ]
  },
  {
   "cell_type": "code",
   "execution_count": 8,
   "metadata": {},
   "outputs": [],
   "source": [
    "# function to handle current time at prediction\n",
    "def current_time():\n",
    "    ts = time.time()\n",
    "    st = datetime.datetime.fromtimestamp(ts).strftime('%H:%M:%S')\n",
    "    return(st)"
   ]
  },
  {
   "cell_type": "code",
   "execution_count": 9,
   "metadata": {},
   "outputs": [],
   "source": [
    "model = model_from_json(open('models/Face_model_architecture.json').read())\n",
    "#model.load_weights('_model_weights.h5')\n",
    "model.load_weights('models/Face_model_weights.h5')\n",
    "sgd = SGD(lr=0.1, decay=1e-6, momentum=0.9, nesterov=True)\n",
    "model.compile(loss='categorical_crossentropy', optimizer=sgd)"
   ]
  },
  {
   "cell_type": "code",
   "execution_count": 10,
   "metadata": {},
   "outputs": [],
   "source": [
    "def extract_face_features(gray, detected_face, offset_coefficients):\n",
    "        (x, y, w, h) = detected_face\n",
    "        #print x , y, w ,h\n",
    "        horizontal_offset = np.int(np.floor(offset_coefficients[0] * w))\n",
    "        vertical_offset = np.int(np.floor(offset_coefficients[1] * h))\n",
    "\n",
    "        extracted_face = gray[y+vertical_offset:y+h, \n",
    "                          x+horizontal_offset:x-horizontal_offset+w]\n",
    "        #print extracted_face.shape\n",
    "        new_extracted_face = zoom(extracted_face, (48. / extracted_face.shape[0], \n",
    "                                               48. / extracted_face.shape[1]))\n",
    "        new_extracted_face = new_extracted_face.astype(np.float32)\n",
    "        new_extracted_face /= float(new_extracted_face.max())\n",
    "        return new_extracted_face"
   ]
  },
  {
   "cell_type": "code",
   "execution_count": null,
   "metadata": {},
   "outputs": [],
   "source": [
    "def detect_face(frame):\n",
    "        cascPath = \"models/haarcascade_frontalface_default.xml\"\n",
    "        faceCascade = cv2.CascadeClassifier(cascPath)\n",
    "        gray = cv2.cvtColor(frame, cv2.COLOR_BGR2GRAY)\n",
    "        detected_faces = faceCascade.detectMultiScale(\n",
    "                gray,\n",
    "                scaleFactor=1.1,\n",
    "                minNeighbors=6,\n",
    "                minSize=(48, 48),\n",
    "                flags=cv2.FONT_HERSHEY_SIMPLEX\n",
    "            )\n",
    "        return gray, detected_faces"
   ]
  },
  {
   "cell_type": "code",
   "execution_count": null,
   "metadata": {},
   "outputs": [
    {
     "name": "stderr",
     "output_type": "stream",
     "text": [
      "/home/jugal/.virtualenvs/cv/lib/python3.6/site-packages/scipy/ndimage/interpolation.py:605: UserWarning: From scipy 0.13.0, the output shape of zoom() is calculated with round() instead of int() - for these inputs the size of the returned array has changed.\n",
      "  \"the returned array has changed.\", UserWarning)\n"
     ]
    },
    {
     "name": "stdout",
     "output_type": "stream",
     "text": [
      "Prediction : Sad || 22:59:09\n",
      "Prediction : Sad || 22:59:09\n",
      "Prediction : Happy || 22:59:09\n",
      "Prediction : Fear || 22:59:09\n",
      "Prediction : Fear || 22:59:10\n",
      "Prediction : Sad || 22:59:10\n",
      "Prediction : Sad || 22:59:10\n",
      "Prediction : Neutral || 22:59:11\n",
      "Prediction : Sad || 22:59:11\n",
      "Prediction : Neutral || 22:59:11\n",
      "Prediction : Sad || 22:59:11\n",
      "Prediction : Sad || 22:59:12\n",
      "Prediction : Neutral || 22:59:12\n",
      "Prediction : Sad || 22:59:12\n",
      "Prediction : Neutral || 22:59:13\n"
     ]
    }
   ],
   "source": [
    "#cascPath = \"haarcascade_frontalface_default.xml\"\n",
    "#faceCascade = cv2.CascadeClassifier(cascPath)\n",
    "\n",
    "video_capture = cv2.VideoCapture(0)\n",
    "\n",
    "while True:\n",
    "    # Capture frame-by-frame\n",
    "    sleep(0.2)\n",
    "    ret, frame = video_capture.read()\n",
    "\n",
    "    # detect faces\n",
    "    gray, detected_faces = detect_face(frame)\n",
    "    \n",
    "    face_index = 0\n",
    "    \n",
    "    # predict output\n",
    "    for face in detected_faces:\n",
    "        (x, y, w, h) = face\n",
    "        if w > 10:\n",
    "            # draw rectangle around face \n",
    "            cv2.rectangle(frame, (x, y), (x+w, y+h), (0, 255, 0), 2)\n",
    "            \n",
    "            # extract features\n",
    "            extracted_face = extract_face_features(gray, face, (0.075, 0.05)) #(0.075, 0.05)\n",
    "\n",
    "            # predict smile\n",
    "            prediction_result = model.predict_classes(extracted_face.reshape(1,48,48,1))\n",
    "\n",
    "            # draw extracted face in the top right corner\n",
    "            #frame[face_index * 48: (face_index + 1) * 48, -49:-1, :] = cv2.cvtColor(extracted_face * 255, cv2.COLOR_GRAY2RGB)\n",
    "\n",
    "            # annotate main image with a label\n",
    "            if prediction_result == 0 :\n",
    "                cv2.putText(frame, \"Angry\", (x,y),cv2.FONT_HERSHEY_SIMPLEX, 1, (0, 0, 255), 2)\n",
    "                print(\"Prediction : Angry ||\", current_time())\n",
    "            \n",
    "            elif prediction_result == 1:\n",
    "                cv2.putText(frame, \"Disgust\", (x,y) ,cv2.FONT_HERSHEY_SIMPLEX, 1, (0, 0, 255), 2)\n",
    "                print(\"Prediction : Disgust ||\", current_time())\n",
    "\n",
    "            elif prediction_result == 2:\n",
    "                cv2.putText(frame, \"Fear\", (x,y), cv2.FONT_HERSHEY_SIMPLEX, 1, (0, 0, 255), 2)\n",
    "                print(\"Prediction : Fear ||\", current_time())\n",
    "\n",
    "            elif prediction_result == 3:\n",
    "                cv2.putText(frame, \"Happy\", (x,y), cv2.FONT_HERSHEY_SIMPLEX, 1, (0, 0, 255), 2)\n",
    "                print(\"Prediction : Happy ||\", current_time())\n",
    "\n",
    "            elif prediction_result == 4:\n",
    "                cv2.putText(frame, \"Sad\", (x,y), cv2.FONT_HERSHEY_SIMPLEX, 1, (0, 0, 255), 2)\n",
    "                print(\"Prediction : Sad ||\", current_time())\n",
    "\n",
    "            elif prediction_result == 5:\n",
    "                cv2.putText(frame, \"Surprise\",(x,y), cv2.FONT_HERSHEY_SIMPLEX, 1, (0, 0, 255), 2)\n",
    "                print(\"Prediction : Surprise ||\", current_time())\n",
    "\n",
    "            else:\n",
    "                cv2.putText(frame, \"Neutral\", (x,y), cv2.FONT_HERSHEY_SIMPLEX, 1, (0, 0, 255), 2)\n",
    "                print(\"Prediction : Neutral ||\",  current_time())\n",
    "\n",
    "\n",
    "            # increment counter\n",
    "            face_index += 1\n",
    "                \n",
    "\n",
    "    # Display the resulting frame\n",
    "    cv2.imshow('Video', frame)\n",
    "\n",
    "    if cv2.waitKey(1) & 0xFF == ord('q'):\n",
    "        break\n",
    "\n",
    "# When everything is done, release the capture\n",
    "video_capture.release()\n",
    "cv2.destroyAllWindows()"
   ]
  },
  {
   "cell_type": "code",
   "execution_count": null,
   "metadata": {},
   "outputs": [],
   "source": [
    "import os\n",
    "os._exit(0)"
   ]
  },
  {
   "cell_type": "code",
   "execution_count": null,
   "metadata": {},
   "outputs": [],
   "source": []
  },
  {
   "cell_type": "code",
   "execution_count": null,
   "metadata": {},
   "outputs": [],
   "source": []
  },
  {
   "cell_type": "code",
   "execution_count": null,
   "metadata": {},
   "outputs": [],
   "source": []
  }
 ],
 "metadata": {
  "kernelspec": {
   "display_name": "Python 3",
   "language": "python",
   "name": "python3"
  },
  "language_info": {
   "codemirror_mode": {
    "name": "ipython",
    "version": 3
   },
   "file_extension": ".py",
   "mimetype": "text/x-python",
   "name": "python",
   "nbconvert_exporter": "python",
   "pygments_lexer": "ipython3",
   "version": "3.6.7"
  }
 },
 "nbformat": 4,
 "nbformat_minor": 2
}
