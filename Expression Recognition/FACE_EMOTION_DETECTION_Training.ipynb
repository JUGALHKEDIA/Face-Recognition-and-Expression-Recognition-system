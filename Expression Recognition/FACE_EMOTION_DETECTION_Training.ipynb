{
 "cells": [
  {
   "cell_type": "code",
   "execution_count": 1,
   "metadata": {
    "colab": {
     "base_uri": "https://localhost:8080/",
     "height": 34
    },
    "colab_type": "code",
    "executionInfo": {
     "elapsed": 2333,
     "status": "ok",
     "timestamp": 1551024967917,
     "user": {
      "displayName": "jugal kedia",
      "photoUrl": "https://lh4.googleusercontent.com/-Z-q4EgOPh4s/AAAAAAAAAAI/AAAAAAAABKY/IYW4dqi4H08/s64/photo.jpg",
      "userId": "05751499813620379728"
     },
     "user_tz": -330
    },
    "id": "qJ8FhEprnnYj",
    "outputId": "987e6f83-7171-45a5-9ccd-5fd94ed57691"
   },
   "outputs": [
    {
     "name": "stderr",
     "output_type": "stream",
     "text": [
      "Using TensorFlow backend.\n"
     ]
    }
   ],
   "source": [
    "# import necessary packages\n",
    "import pandas as pd\n",
    "import numpy as np\n",
    "import h5py\n",
    "import matplotlib.pyplot as plt\n",
    "from keras.datasets import mnist\n",
    "from keras.models import Sequential\n",
    "from keras.layers.core import Dense, Dropout, Activation, Flatten\n",
    "from keras.layers.convolutional import Convolution2D, MaxPooling2D\n",
    "from keras.utils import np_utils\n",
    "from keras.regularizers import l2\n",
    "from keras.optimizers import SGD, RMSprop\n",
    "from keras.callbacks import TensorBoard"
   ]
  },
  {
   "cell_type": "code",
   "execution_count": 0,
   "metadata": {
    "colab": {},
    "colab_type": "code",
    "id": "afACXDmTn7zJ"
   },
   "outputs": [],
   "source": []
  },
  {
   "cell_type": "code",
   "execution_count": 2,
   "metadata": {
    "colab": {
     "base_uri": "https://localhost:8080/",
     "height": 122
    },
    "colab_type": "code",
    "executionInfo": {
     "elapsed": 27570,
     "status": "ok",
     "timestamp": 1551025003133,
     "user": {
      "displayName": "jugal kedia",
      "photoUrl": "https://lh4.googleusercontent.com/-Z-q4EgOPh4s/AAAAAAAAAAI/AAAAAAAABKY/IYW4dqi4H08/s64/photo.jpg",
      "userId": "05751499813620379728"
     },
     "user_tz": -330
    },
    "id": "PwACbDb2o5Gc",
    "outputId": "309fdc51-516d-4bd3-9224-00f5b6f25150"
   },
   "outputs": [
    {
     "name": "stdout",
     "output_type": "stream",
     "text": [
      "Go to this URL in a browser: https://accounts.google.com/o/oauth2/auth?client_id=947318989803-6bn6qk8qdgf4n4g3pfee6491hc0brc4i.apps.googleusercontent.com&redirect_uri=urn%3Aietf%3Awg%3Aoauth%3A2.0%3Aoob&scope=email%20https%3A%2F%2Fwww.googleapis.com%2Fauth%2Fdocs.test%20https%3A%2F%2Fwww.googleapis.com%2Fauth%2Fdrive%20https%3A%2F%2Fwww.googleapis.com%2Fauth%2Fdrive.photos.readonly%20https%3A%2F%2Fwww.googleapis.com%2Fauth%2Fpeopleapi.readonly&response_type=code\n",
      "\n",
      "Enter your authorization code:\n",
      "··········\n",
      "Mounted at /content/drive\n"
     ]
    }
   ],
   "source": [
    "from google.colab import drive\n",
    "drive.mount('/content/drive')"
   ]
  },
  {
   "cell_type": "code",
   "execution_count": 3,
   "metadata": {
    "colab": {
     "base_uri": "https://localhost:8080/",
     "height": 51
    },
    "colab_type": "code",
    "executionInfo": {
     "elapsed": 3301,
     "status": "ok",
     "timestamp": 1551025010617,
     "user": {
      "displayName": "jugal kedia",
      "photoUrl": "https://lh4.googleusercontent.com/-Z-q4EgOPh4s/AAAAAAAAAAI/AAAAAAAABKY/IYW4dqi4H08/s64/photo.jpg",
      "userId": "05751499813620379728"
     },
     "user_tz": -330
    },
    "id": "cYRvdofZp84f",
    "outputId": "4716ca50-d728-4a75-f050-500de89e0dba"
   },
   "outputs": [
    {
     "name": "stdout",
     "output_type": "stream",
     "text": [
      "/content\n",
      "drive  sample_data\n"
     ]
    }
   ],
   "source": [
    "import os\n",
    "print(os.getcwd())\n",
    "!ls"
   ]
  },
  {
   "cell_type": "code",
   "execution_count": 0,
   "metadata": {
    "colab": {
     "base_uri": "https://localhost:8080/",
     "height": 51
    },
    "colab_type": "code",
    "executionInfo": {
     "elapsed": 229385,
     "status": "ok",
     "timestamp": 1551017233519,
     "user": {
      "displayName": "jugal kedia",
      "photoUrl": "https://lh4.googleusercontent.com/-Z-q4EgOPh4s/AAAAAAAAAAI/AAAAAAAABKY/IYW4dqi4H08/s64/photo.jpg",
      "userId": "05751499813620379728"
     },
     "user_tz": -330
    },
    "id": "5aaA63ZPnnaf",
    "outputId": "e3b781ca-c416-4872-ff7b-68ca8d267545"
   },
   "outputs": [
    {
     "name": "stdout",
     "output_type": "stream",
     "text": [
      "Data Ready!\n",
      "Labels Ready!\n"
     ]
    }
   ],
   "source": [
    "#script for preparing datasets, loading fer data and generating scaled images \n",
    "\n",
    "#loading fer2013.csv\n",
    "\n",
    "df = pd.read_csv(\"/content/drive/My Drive/FED/data/fer2013.csv\")\n",
    "data = df['pixels']\n",
    "data = [ dat.split() for dat in data ]\n",
    "data = np.array(data)\n",
    "data = data.astype('float64')\n",
    "data = [[np.divide(d,255.0) for d in dat] for dat in data]\n",
    "np.save('/content/drive/My Drive/FED/data/New_Colab_Weights/Scaled.bin.npy',data)\n",
    "print(\"Data Ready!\")\n",
    "\n",
    "labels = df['emotion']\n",
    "labels = np.array(labels)\n",
    "labels = labels.astype(int)\n",
    "np.save('/content/drive/My Drive/FED/data/New_Colab_Weights/labels.bin.npy',labels)\n",
    "print(\"Labels Ready!\")"
   ]
  },
  {
   "cell_type": "code",
   "execution_count": 0,
   "metadata": {
    "colab": {
     "base_uri": "https://localhost:8080/",
     "height": 34
    },
    "colab_type": "code",
    "executionInfo": {
     "elapsed": 1379,
     "status": "ok",
     "timestamp": 1551017362141,
     "user": {
      "displayName": "jugal kedia",
      "photoUrl": "https://lh4.googleusercontent.com/-Z-q4EgOPh4s/AAAAAAAAAAI/AAAAAAAABKY/IYW4dqi4H08/s64/photo.jpg",
      "userId": "05751499813620379728"
     },
     "user_tz": -330
    },
    "id": "fIXN-jg8nnam",
    "outputId": "15a42dd9-d24e-42ed-ffd9-b73018932444"
   },
   "outputs": [
    {
     "name": "stdout",
     "output_type": "stream",
     "text": [
      "[0 0 2 ... 0 3 2]\n"
     ]
    }
   ],
   "source": [
    "print(labels)"
   ]
  },
  {
   "cell_type": "code",
   "execution_count": 0,
   "metadata": {
    "colab": {},
    "colab_type": "code",
    "id": "T6VIvDQNnnaq"
   },
   "outputs": [],
   "source": [
    "np.random.seed(42)  # for reproducibility\n",
    "\n",
    "#Load the scaled data, both pixels and labels\n",
    "X = np.load('/content/drive/My Drive/FED/data/New_Colab_Weights/Scaled.bin.npy')\n",
    "y = np.load('/content/drive/My Drive/FED/data/New_Colab_Weights/labels.bin.npy')"
   ]
  },
  {
   "cell_type": "code",
   "execution_count": 0,
   "metadata": {
    "colab": {},
    "colab_type": "code",
    "id": "E1fDckbpnnaw"
   },
   "outputs": [],
   "source": [
    "from sklearn.model_selection import train_test_split\n",
    "X_train, X_test, y_train, y_test = train_test_split(X, y, test_size=0.01, random_state=42)"
   ]
  },
  {
   "cell_type": "code",
   "execution_count": 61,
   "metadata": {
    "colab": {
     "base_uri": "https://localhost:8080/",
     "height": 819
    },
    "colab_type": "code",
    "executionInfo": {
     "elapsed": 508409,
     "status": "ok",
     "timestamp": 1551032411754,
     "user": {
      "displayName": "jugal kedia",
      "photoUrl": "https://lh4.googleusercontent.com/-Z-q4EgOPh4s/AAAAAAAAAAI/AAAAAAAABKY/IYW4dqi4H08/s64/photo.jpg",
      "userId": "05751499813620379728"
     },
     "user_tz": -330
    },
    "id": "7hWT0Epbnna1",
    "outputId": "99500e31-ac24-456c-e4bf-756b23dc9dd8",
    "scrolled": false
   },
   "outputs": [
    {
     "name": "stderr",
     "output_type": "stream",
     "text": [
      "/usr/local/lib/python3.6/dist-packages/ipykernel_launcher.py:13: UserWarning: Update your `Conv2D` call to the Keras 2 API: `Conv2D(64, (5, 5), input_shape=(48, 48, 1..., padding=\"same\")`\n",
      "  del sys.path[0]\n",
      "/usr/local/lib/python3.6/dist-packages/ipykernel_launcher.py:17: UserWarning: Update your `Conv2D` call to the Keras 2 API: `Conv2D(128, (5, 5), input_shape=(64, 64, 5..., padding=\"same\")`\n",
      "/usr/local/lib/python3.6/dist-packages/ipykernel_launcher.py:21: UserWarning: Update your `Conv2D` call to the Keras 2 API: `Conv2D(256, (5, 5), input_shape=(128, 128,..., padding=\"same\")`\n",
      "/usr/local/lib/python3.6/dist-packages/ipykernel_launcher.py:25: UserWarning: Update your `Conv2D` call to the Keras 2 API: `Conv2D(512, (5, 5), input_shape=(256, 256,..., padding=\"same\")`\n",
      "/usr/local/lib/python3.6/dist-packages/ipykernel_launcher.py:30: UserWarning: Update your `Dense` call to the Keras 2 API: `Dense(1024, kernel_initializer=\"lecun_uniform\")`\n"
     ]
    },
    {
     "name": "stdout",
     "output_type": "stream",
     "text": [
      "Epoch 1/20\n",
      "35528/35528 [==============================] - 26s 742us/step - loss: 1.8081 - acc: 0.2488\n",
      "Epoch 2/20\n",
      "35528/35528 [==============================] - 25s 710us/step - loss: 1.5785 - acc: 0.3825\n",
      "Epoch 3/20\n",
      "35528/35528 [==============================] - 25s 709us/step - loss: 1.3514 - acc: 0.4830\n",
      "Epoch 4/20\n",
      "35528/35528 [==============================] - 25s 709us/step - loss: 1.1940 - acc: 0.5467\n",
      "Epoch 5/20\n",
      "35528/35528 [==============================] - 25s 709us/step - loss: 1.0592 - acc: 0.6029\n",
      "Epoch 6/20\n",
      "35528/35528 [==============================] - 25s 710us/step - loss: 0.9276 - acc: 0.6561\n",
      "Epoch 7/20\n",
      "35528/35528 [==============================] - 25s 708us/step - loss: 0.7878 - acc: 0.7101\n",
      "Epoch 8/20\n",
      "35528/35528 [==============================] - 25s 712us/step - loss: 0.6586 - acc: 0.7591\n",
      "Epoch 9/20\n",
      "35528/35528 [==============================] - 25s 710us/step - loss: 0.5429 - acc: 0.8032\n",
      "Epoch 10/20\n",
      "35528/35528 [==============================] - 25s 714us/step - loss: 0.4632 - acc: 0.8329\n",
      "Epoch 11/20\n",
      "35528/35528 [==============================] - 25s 708us/step - loss: 0.3878 - acc: 0.8621\n",
      "Epoch 12/20\n",
      "35528/35528 [==============================] - 25s 709us/step - loss: 0.3399 - acc: 0.8830\n",
      "Epoch 13/20\n",
      "35528/35528 [==============================] - 25s 707us/step - loss: 0.3044 - acc: 0.8957\n",
      "Epoch 14/20\n",
      "35528/35528 [==============================] - 25s 707us/step - loss: 0.2743 - acc: 0.9081\n",
      "Epoch 15/20\n",
      "35528/35528 [==============================] - 25s 707us/step - loss: 0.2751 - acc: 0.9114\n",
      "Epoch 16/20\n",
      "35528/35528 [==============================] - 25s 710us/step - loss: 0.2480 - acc: 0.9209\n",
      "Epoch 17/20\n",
      "35528/35528 [==============================] - 25s 707us/step - loss: 0.2564 - acc: 0.9173\n",
      "Epoch 18/20\n",
      "35528/35528 [==============================] - 25s 706us/step - loss: 0.2280 - acc: 0.9265\n",
      "Epoch 19/20\n",
      "35528/35528 [==============================] - 25s 707us/step - loss: 0.2601 - acc: 0.9162\n",
      "Epoch 20/20\n",
      "35528/35528 [==============================] - 25s 708us/step - loss: 0.2627 - acc: 0.9181\n"
     ]
    }
   ],
   "source": [
    "#reshape the given pixels into 48 X 48 images\n",
    "shapex , shapey = 48, 48\n",
    "X_train = X_train.reshape(X_train.shape[0] ,  shapex , shapey,1)\n",
    "X_test  = X_test.reshape(X_test.shape[0] ,  shapex , shapey,1)\n",
    "\n",
    "\n",
    "#convert labels to one-hot-encoding\n",
    "y_train = np_utils.to_categorical(y_train)\n",
    "y_test = np_utils.to_categorical(y_test)\n",
    "\n",
    "\n",
    "#define the model 32 filters in first convolution layer followed by a max pooling and dense layer with dropout (50%)\n",
    "model = Sequential()\n",
    "model.add(Convolution2D(64, 5, 5, border_mode='same', input_shape=(48,48,1)))\n",
    "model.add(Activation('relu'))\n",
    "model.add(MaxPooling2D(pool_size=(2, 2)))\n",
    "\n",
    "model.add(Convolution2D(128, 5, 5, border_mode='same', input_shape=(64,64,5)))\n",
    "model.add(Activation('relu'))\n",
    "model.add(MaxPooling2D(pool_size=(2, 2)))\n",
    "\n",
    "model.add(Convolution2D(256, 5, 5, border_mode='same', input_shape=(128,128,5)))\n",
    "model.add(Activation('relu'))\n",
    "model.add(MaxPooling2D(pool_size=(2, 2)))\n",
    "\n",
    "model.add(Convolution2D(512, 5, 5, border_mode='same', input_shape=(256,256,5)))\n",
    "model.add(Activation('relu'))\n",
    "model.add(MaxPooling2D(pool_size=(2, 2)))\n",
    "\n",
    "model.add(Flatten())\n",
    "model.add(Dense(1024,init='lecun_uniform'))\n",
    "model.add(Dropout(0.3))\n",
    "model.add(Activation('relu'))\n",
    "model.add(Dense(7))\n",
    "model.add(Activation('softmax'))\n",
    "\n",
    "#training the model with cross sgd and nesterov momentum\n",
    "\n",
    "sgd = SGD(lr=0.055, decay=1e-6, momentum=0.9, nesterov=True)\n",
    "#optm = RMSprop(lr=0.004, rho=0.9, epsilon=1e-08, decay=0.0)\n",
    "model.compile(loss='categorical_crossentropy', optimizer=sgd, metrics=['accuracy'] )\n",
    "# tb = TensorBoard(log_dir='Graph', write_graph=True, write_grads=True, \n",
    "#                  write_images=True, histogram_freq=0)\n",
    "\n",
    "# model.fit(X_train,Y_tr_labels , batch_size=128 , nb_epoch=25, callbacks=[tb])\n",
    "\n",
    "history = model.fit(X_train, y_train , batch_size=128 , epochs=20)\n",
    "\n",
    "#save the model weights\n",
    "json_string = model.to_json()\n",
    "model.save_weights('/content/drive/My Drive/FED/models/New_Colab_Models/Face_model_weights.h5')\n",
    "open('/content/drive/My Drive/FED/models/New_Colab_Models/Face_model_architecture.json', 'w').write(json_string)\n",
    "model.save_weights('/content/drive/My Drive/FED/models/New_Colab_Models/Face_model_weights.h5')\n"
   ]
  },
  {
   "cell_type": "code",
   "execution_count": 62,
   "metadata": {
    "colab": {
     "base_uri": "https://localhost:8080/",
     "height": 724
    },
    "colab_type": "code",
    "executionInfo": {
     "elapsed": 1906,
     "status": "ok",
     "timestamp": 1551032417283,
     "user": {
      "displayName": "jugal kedia",
      "photoUrl": "https://lh4.googleusercontent.com/-Z-q4EgOPh4s/AAAAAAAAAAI/AAAAAAAABKY/IYW4dqi4H08/s64/photo.jpg",
      "userId": "05751499813620379728"
     },
     "user_tz": -330
    },
    "id": "96PBgbqbnna5",
    "outputId": "b5773c52-4145-47c8-826f-359fbaeaf4a0"
   },
   "outputs": [
    {
     "name": "stdout",
     "output_type": "stream",
     "text": [
      "dict_keys(['loss', 'acc'])\n"
     ]
    },
    {
     "data": {
      "image/png": "[encoded data removed]",
      "text/plain": [
       "<Figure size 576x396 with 1 Axes>"
      ]
     },
     "metadata": {
      "tags": []
     },
     "output_type": "display_data"
    },
    {
     "data": {
      "image/png": "[encoded data removed]",
      "text/plain": [
       "<Figure size 576x396 with 1 Axes>"
      ]
     },
     "metadata": {
      "tags": []
     },
     "output_type": "display_data"
    }
   ],
   "source": [
    "history_dict = history.history\n",
    "print(history_dict.keys())\n",
    "\n",
    "acc = history.history['acc']\n",
    "loss = history.history['loss']\n",
    "epochs = range(1, len(acc) + 1)\n",
    "plt.plot(epochs, acc, 'bo', label='Training acc')\n",
    "\n",
    "plt.title('Training and validation accuracy')\n",
    "plt.legend()\n",
    "plt.figure()\n",
    "plt.plot(epochs, loss, 'bo', label='Training loss')\n",
    "plt.title('Training and validation loss')\n",
    "plt.legend()\n",
    "plt.show()"
   ]
  },
  {
   "cell_type": "code",
   "execution_count": 63,
   "metadata": {
    "colab": {
     "base_uri": "https://localhost:8080/",
     "height": 51
    },
    "colab_type": "code",
    "executionInfo": {
     "elapsed": 1442,
     "status": "ok",
     "timestamp": 1551032434897,
     "user": {
      "displayName": "jugal kedia",
      "photoUrl": "https://lh4.googleusercontent.com/-Z-q4EgOPh4s/AAAAAAAAAAI/AAAAAAAABKY/IYW4dqi4H08/s64/photo.jpg",
      "userId": "05751499813620379728"
     },
     "user_tz": -330
    },
    "id": "pvx2zdYVnna-",
    "outputId": "b10c13f1-3e2c-4873-ca58-2997f666db8d"
   },
   "outputs": [
    {
     "name": "stdout",
     "output_type": "stream",
     "text": [
      "359/359 [==============================] - 1s 1ms/step\n"
     ]
    },
    {
     "data": {
      "text/plain": [
       "[2.56975265000856, 0.5654596105259441]"
      ]
     },
     "execution_count": 63,
     "metadata": {
      "tags": []
     },
     "output_type": "execute_result"
    }
   ],
   "source": [
    "model.evaluate(X_test, y_test)"
   ]
  },
  {
   "cell_type": "code",
   "execution_count": 0,
   "metadata": {
    "colab": {},
    "colab_type": "code",
    "id": "3F6AZjjNwyED"
   },
   "outputs": [],
   "source": []
  }
 ],
 "metadata": {
  "accelerator": "GPU",
  "colab": {
   "collapsed_sections": [],
   "name": "fed_train.ipynb",
   "provenance": [],
   "version": "0.3.2"
  },
  "kernelspec": {
   "display_name": "Python 3",
   "language": "python",
   "name": "python3"
  },
  "language_info": {
   "codemirror_mode": {
    "name": "ipython",
    "version": 3
   },
   "file_extension": ".py",
   "mimetype": "text/x-python",
   "name": "python",
   "nbconvert_exporter": "python",
   "pygments_lexer": "ipython3",
   "version": "3.6.7"
  }
 },
 "nbformat": 4,
 "nbformat_minor": 1
}
