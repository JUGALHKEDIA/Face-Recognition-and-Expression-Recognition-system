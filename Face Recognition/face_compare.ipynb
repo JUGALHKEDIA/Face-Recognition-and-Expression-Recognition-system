{
 "cells": [
  {
   "cell_type": "code",
   "execution_count": 2,
   "metadata": {},
   "outputs": [
    {
     "name": "stdout",
     "output_type": "stream",
     "text": [
      "Populating the interactive namespace from numpy and matplotlib\n"
     ]
    }
   ],
   "source": [
    "from imutils import paths\n",
    "import face_recognition\n",
    "import pickle\n",
    "import cv2\n",
    "import os\n",
    "import numpy as np\n",
    "import pandas as pd\n",
    "import csv\n",
    "import time\n",
    "%pylab inline\n",
    "import matplotlib.pyplot as plt\n",
    "import numpy as np"
   ]
  },
  {
   "cell_type": "code",
   "execution_count": null,
   "metadata": {},
   "outputs": [],
   "source": [
    "args = {'image1': '/home/jugal/Desktop/Face Recognition/test/image4.jpg',\n",
    "        'image2': '/home/jugal/Desktop/Face Recognition/test/image5.jpg',\n",
    "        'detection_method': 'hog'}\n",
    "\n",
    "\n",
    "name = 'NONE'\n",
    "\n",
    "image1 = cv2.imread(args[\"image1\"])\n",
    "image2 = cv2.imread(args[\"image2\"])\n",
    "rgb1 = cv2.cvtColor(image1, cv2.COLOR_BGR2RGB)\n",
    "rgb2 = cv2.cvtColor(image2, cv2.COLOR_BGR2RGB)\n",
    "\n",
    "# Detect the (x, y)-coordinates of the bounding boxes corresponding to each face in the input image\n",
    "boxes1 = face_recognition.face_locations(rgb1, model=args[\"detection_method\"])\n",
    "boxes2 = face_recognition.face_locations(rgb2, model=args[\"detection_method\"])\n",
    "\n",
    "# Computing the facial embedding for the face\n",
    "encodings1 = face_recognition.face_encodings(rgb1, boxes1)\n",
    "encodings2 = face_recognition.face_encodings(rgb2, boxes2)\n",
    "\n",
    "matches = face_recognition.compare_faces(np.array(encodings1), np.array(encodings2), tolerance = 0.3)\n",
    "\n",
    "if matches == [True]:\n",
    "    print(\" Same Person\")\n",
    "else:\n",
    "    print(\" Different person\")\n",
    "    \n",
    "\n",
    "\n",
    "for ((top, right, bottom, left), name) in zip(boxes1,name):\n",
    "    image1 = cv2.rectangle(image1, (left, top), (right, bottom), (255, 255, 255), 2)\n",
    "\n",
    "\n",
    "for ((top, right, bottom, left), name) in zip(boxes2, name):\n",
    "    image2 = cv2.rectangle(image2, (left, top), (right, bottom), (255, 255, 255), 2)\n",
    "\n",
    "\n",
    "\n",
    "\n",
    "\n",
    "\n",
    "a = cv2.resize(image1,(720,720))\n",
    "b = cv2.resize(image2,(720,720))\n",
    "print()\n",
    "\n",
    "\n",
    "\n",
    "\n",
    "concat_a_b = np.concatenate((a, b), axis=1)\n",
    "plt.figure(figsize=(15,15))\n",
    "img = concat_a_b\n",
    "img = cv2.cvtColor(img, cv2.COLOR_BGR2RGB)\n",
    "imgplot = plt.imshow(img)\n",
    "plt.show()"
   ]
  },
  {
   "cell_type": "code",
   "execution_count": null,
   "metadata": {},
   "outputs": [],
   "source": []
  },
  {
   "cell_type": "code",
   "execution_count": null,
   "metadata": {},
   "outputs": [],
   "source": []
  }
 ],
 "metadata": {
  "kernelspec": {
   "display_name": "Python 3",
   "language": "python",
   "name": "python3"
  },
  "language_info": {
   "codemirror_mode": {
    "name": "ipython",
    "version": 3
   },
   "file_extension": ".py",
   "mimetype": "text/x-python",
   "name": "python",
   "nbconvert_exporter": "python",
   "pygments_lexer": "ipython3",
   "version": "3.6.7"
  }
 },
 "nbformat": 4,
 "nbformat_minor": 2
}
